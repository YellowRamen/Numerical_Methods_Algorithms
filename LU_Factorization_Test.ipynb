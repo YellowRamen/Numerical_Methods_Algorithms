{
 "cells": [
  {
   "cell_type": "code",
   "execution_count": 1,
   "metadata": {
    "collapsed": true
   },
   "outputs": [],
   "source": [
    "import numpy as np\n",
    "import math"
   ]
  },
  {
   "cell_type": "code",
   "execution_count": 2,
   "metadata": {
    "collapsed": true
   },
   "outputs": [],
   "source": [
    "def LU(A):\n",
    "    n =  len(A)\n",
    "    rowSwitch = [ i for i in xrange(0, n) ]\n",
    "    # k represents the current pivot row. Since GE traverses the matrix in the upper \n",
    "    # right triangle, we also use k for indicating the k-th diagonal column index.\n",
    "    for k in xrange(n-1):\n",
    "        #Choose largest pivot element below (and including) k\n",
    "        maxindex = abs(A[k:,k]).argmax() + k\n",
    "        if A[maxindex, k] == 0:\n",
    "            raise ValueError(\"Matrix is singular.\")\n",
    "        #Swap rows\n",
    "        if maxindex != k:\n",
    "            A[[k,maxindex]] = A[[maxindex, k]]\n",
    "            temp = rowSwitch[k]\n",
    "            rowSwitch[k] = rowSwitch[maxindex]\n",
    "            rowSwitch[maxindex] = temp\n",
    "        for row in xrange(k+1, n):\n",
    "            multiplier = A[row][k]/A[k][k]\n",
    "            #the only one in this column since the rest are zero\n",
    "            A[row][k] = multiplier\n",
    "            for col in xrange(k + 1, n):\n",
    "                A[row][col] = A[row][col] - multiplier*A[k][col]\n",
    "    L = [ [0.0]* n for i in xrange (0, n) ]\n",
    "    U = [ [0.0]*n for i in xrange (0, n) ]\n",
    "    P = [ [0.0]*n for i in xrange(0, n) ]\n",
    "    for i in xrange(0, n):\n",
    "        L[i][i] = 1.0\n",
    "    for i in xrange(1, n):\n",
    "        for j in range(0, i):\n",
    "            L[i][j] = A[i][j]\n",
    "    for i in xrange(0, n):\n",
    "        for j in xrange(i, n):\n",
    "            U[i][j] = A[i][j]\n",
    "    for i in xrange(0, n):\n",
    "        P[i][rowSwitch[i]] = 1.0\n",
    "    return [L,U,P]"
   ]
  },
  {
   "cell_type": "code",
   "execution_count": 3,
   "metadata": {
    "collapsed": true
   },
   "outputs": [],
   "source": [
    "def GEPP(A, b):\n",
    "    n =  len(A)\n",
    "    if b.size != n:\n",
    "        raise ValueError(\"Invalid argument: incompatible sizes between A & b.\", b.size, n)\n",
    "    # k represents the current pivot row. Since GE traverses the matrix in the upper \n",
    "    # right triangle, we also use k for indicating the k-th diagonal column index.\n",
    "    for k in xrange(n-1):\n",
    "        #Choose largest pivot element below (and including) k\n",
    "        maxindex = abs(A[k:,k]).argmax() + k\n",
    "        if A[maxindex, k] == 0:\n",
    "            raise ValueError(\"Matrix is singular.\")\n",
    "        #Swap rows\n",
    "        if maxindex != k:\n",
    "            A[[k,maxindex]] = A[[maxindex, k]]\n",
    "            b[[k,maxindex]] = b[[maxindex, k]]\n",
    "        for row in xrange(k+1, n):\n",
    "            multiplier = A[row][k]/A[k][k]\n",
    "            #the only one in this column since the rest are zero\n",
    "            A[row][k] = multiplier\n",
    "            for col in xrange(k + 1, n):\n",
    "                A[row][col] = A[row][col] - multiplier*A[k][col]\n",
    "            #Equation solution column\n",
    "            b[row] = b[row] - multiplier*b[k]\n",
    "    x = np.zeros(n)\n",
    "    k = n-1\n",
    "    x[k] = b[k]/A[k,k]\n",
    "    while k >= 0:\n",
    "        x[k] = (b[k] - np.dot(A[k,k+1:],x[k+1:]))/A[k,k]\n",
    "        k = k-1\n",
    "    return x"
   ]
  },
  {
   "cell_type": "code",
   "execution_count": 6,
   "metadata": {
    "collapsed": false
   },
   "outputs": [
    {
     "name": "stdout",
     "output_type": "stream",
     "text": [
      "[ 0.07937164  0.30219099  0.38032245  0.33154196  0.76560562  1.2257131 ]\n",
      "[-2.  3. -1.  1.]\n",
      "[ 0.79558824 -1.53088235  1.61029412  0.61764706]\n",
      "\n",
      "\n",
      "\n",
      "\n",
      "This is L: \n",
      "[[ 1.          0.          0.          0.          0.        ]\n",
      " [ 0.68421053  1.          0.          0.          0.        ]\n",
      " [ 0.15789474 -0.64615385  1.          0.          0.        ]\n",
      " [ 0.31578947  0.36410256 -0.39862543  1.          0.        ]\n",
      " [-0.21052632 -0.30769231 -0.03436426  0.07070707  1.        ]]\n",
      "\n",
      "This is U: \n",
      "[[  1.90000000e+01   4.20000000e+01   1.70000000e+01   1.07000000e+02\n",
      "    4.40000000e+01]\n",
      " [  0.00000000e+00   1.02631579e+01  -9.63157895e+00  -1.62105263e+01\n",
      "   -2.10526316e+00]\n",
      " [  0.00000000e+00   0.00000000e+00  -1.79076923e+01  -2.53692308e+01\n",
      "   -7.30769231e+00]\n",
      " [  0.00000000e+00   0.00000000e+00   0.00000000e+00  -3.30000000e+01\n",
      "   -9.04123711e+00]\n",
      " [  0.00000000e+00   0.00000000e+00   0.00000000e+00   0.00000000e+00\n",
      "    3.54056024e-03]]\n",
      "\n",
      "This is P: \n",
      "[[ 0.  0.  0.  0.  1.]\n",
      " [ 1.  0.  0.  0.  0.]\n",
      " [ 0.  0.  1.  0.  0.]\n",
      " [ 0.  0.  0.  1.  0.]\n",
      " [ 0.  1.  0.  0.  0.]]\n",
      "\n",
      "[ -75.43627451  -88.66176471   -7.19117647  -98.60784314  359.80392157]\n"
     ]
    }
   ],
   "source": [
    "def main():\n",
    "    A = np.array( [ [4.0, 1.0, 1.0, 0.0, 0.0, 0.0], [1.0, 4.0, 1.0, 1.0 ,0.0, 0.0], [1.0, 1.0, 4.0, 1.0, 1.0, 0.0], [0.0, 1.0, 1.0, 4.0, 1.0, 1.0], [0.0, 0.0, 1.0, 1.0, 4.0, 1.0], [0.0, 0.0, 0.0, 1.0, 1.0, 4.0] ] )\n",
    "    b = np.array( [ [1.0], [2.0], [3.0], [4.0], [5.0], [6.0] ] )\n",
    "    C = np.array( [ [1.0, 1.0, 1.0, 1.0], [1.0, 1.0, 2.0, 3.0], [-1.0, 0.0, 2.0, 1.0], [3.0, 2.0, -1.0, 0.0] ] )\n",
    "    d = np.array( [ [1.0], [2.0], [1.0], [1.0] ] )\n",
    "    E = np.array( [ [5.0, 5.0, 4.0, 2.0], [3.0, 3.0, 4.0, -2.0], [-2.0, 0.0, 2.0, 0.6], [-1.0, 2.0, 3.4, -1.0] ] )\n",
    "    f = np.array( [ [4.0], [3.0], [2.0], [1.0] ] )\n",
    "    print (GEPP(A, b))\n",
    "    print (GEPP(C, d))\n",
    "    print (GEPP(E, f))\n",
    "    print(\"\")\n",
    "    print(\"\")\n",
    "\n",
    "    F = np.array( [ [13.0, 39.0, 2.0, 57.0, 28.0], [-4.0, -12.0, 0.0, -19.0, -9.0,], [3.0, 0.0, -9.0, 2.0, 1.0], [6.0, 17.0, 9.0, 5.0, 7.0], [19.0, 42.0, 17.0, 107.0, 44.0] ] )\n",
    "    g = np.array( [ [1.0], [1.0], [1.0], [1.0], [1.0] ] )\n",
    "    result = (LU(F))\n",
    "    print(\"\")\n",
    "    print (\"\")\n",
    "    L = np.array(result[0])\n",
    "    print (\"This is L: \")\n",
    "    print (L)\n",
    "    print (\"\")\n",
    "    U = np.array(result[1])\n",
    "    print(\"This is U: \")\n",
    "    print (U)\n",
    "    print (\"\")\n",
    "    P = np.array(result[2])\n",
    "    print (\"This is P: \")\n",
    "    print (P)\n",
    "    print (\"\")\n",
    "    Pg = np.dot(P, g)\n",
    "    y = GEPP(L, Pg)\n",
    "    x = GEPP(U, y)\n",
    "    print (x)\n",
    "main()"
   ]
  },
  {
   "cell_type": "code",
   "execution_count": null,
   "metadata": {
    "collapsed": true
   },
   "outputs": [],
   "source": []
  }
 ],
 "metadata": {
  "kernelspec": {
   "display_name": "Python 2",
   "language": "python",
   "name": "python2"
  },
  "language_info": {
   "codemirror_mode": {
    "name": "ipython",
    "version": 2
   },
   "file_extension": ".py",
   "mimetype": "text/x-python",
   "name": "python",
   "nbconvert_exporter": "python",
   "pygments_lexer": "ipython2",
   "version": "2.7.11"
  }
 },
 "nbformat": 4,
 "nbformat_minor": 0
}
